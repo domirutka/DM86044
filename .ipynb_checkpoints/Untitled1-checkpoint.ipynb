{
 "cells": [
  {
   "cell_type": "code",
   "execution_count": 1,
   "metadata": {},
   "outputs": [],
   "source": [
    "import numpy as np\n",
    "import pandas as pd\n",
    "import matplotlib.pyplot as plt\n",
    "%matplotlib inline"
   ]
  },
  {
   "cell_type": "code",
   "execution_count": 2,
   "metadata": {},
   "outputs": [],
   "source": [
    "from sklearn import datasets\n",
    "x,y= datasets.make_classification(n_samples=10**3, n_features = 10, random_state=86044)"
   ]
  },
  {
   "cell_type": "code",
   "execution_count": 3,
   "metadata": {},
   "outputs": [],
   "source": [
    "X=pd.DataFrame(x)"
   ]
  },
  {
   "cell_type": "code",
   "execution_count": 4,
   "metadata": {},
   "outputs": [
    {
     "data": {
      "text/html": [
       "<div>\n",
       "<style scoped>\n",
       "    .dataframe tbody tr th:only-of-type {\n",
       "        vertical-align: middle;\n",
       "    }\n",
       "\n",
       "    .dataframe tbody tr th {\n",
       "        vertical-align: top;\n",
       "    }\n",
       "\n",
       "    .dataframe thead th {\n",
       "        text-align: right;\n",
       "    }\n",
       "</style>\n",
       "<table border=\"1\" class=\"dataframe\">\n",
       "  <thead>\n",
       "    <tr style=\"text-align: right;\">\n",
       "      <th></th>\n",
       "      <th>0</th>\n",
       "      <th>1</th>\n",
       "      <th>2</th>\n",
       "      <th>3</th>\n",
       "      <th>4</th>\n",
       "      <th>5</th>\n",
       "      <th>6</th>\n",
       "      <th>7</th>\n",
       "      <th>8</th>\n",
       "      <th>9</th>\n",
       "    </tr>\n",
       "  </thead>\n",
       "  <tbody>\n",
       "    <tr>\n",
       "      <th>0</th>\n",
       "      <td>-0.854683</td>\n",
       "      <td>1.992849</td>\n",
       "      <td>-0.806812</td>\n",
       "      <td>-0.655276</td>\n",
       "      <td>1.130966</td>\n",
       "      <td>0.240112</td>\n",
       "      <td>0.707167</td>\n",
       "      <td>-0.302951</td>\n",
       "      <td>0.889006</td>\n",
       "      <td>0.767399</td>\n",
       "    </tr>\n",
       "    <tr>\n",
       "      <th>1</th>\n",
       "      <td>0.625038</td>\n",
       "      <td>-1.777802</td>\n",
       "      <td>1.034582</td>\n",
       "      <td>0.265885</td>\n",
       "      <td>-0.061180</td>\n",
       "      <td>0.810721</td>\n",
       "      <td>0.485293</td>\n",
       "      <td>-0.219586</td>\n",
       "      <td>1.261792</td>\n",
       "      <td>-0.817489</td>\n",
       "    </tr>\n",
       "    <tr>\n",
       "      <th>2</th>\n",
       "      <td>-0.648280</td>\n",
       "      <td>-1.085131</td>\n",
       "      <td>0.248281</td>\n",
       "      <td>-0.685442</td>\n",
       "      <td>0.857277</td>\n",
       "      <td>-1.084677</td>\n",
       "      <td>2.040558</td>\n",
       "      <td>-0.893134</td>\n",
       "      <td>-0.381560</td>\n",
       "      <td>0.034019</td>\n",
       "    </tr>\n",
       "    <tr>\n",
       "      <th>3</th>\n",
       "      <td>1.916458</td>\n",
       "      <td>0.759589</td>\n",
       "      <td>-0.125788</td>\n",
       "      <td>-1.356669</td>\n",
       "      <td>1.187348</td>\n",
       "      <td>-0.832513</td>\n",
       "      <td>1.405226</td>\n",
       "      <td>-0.612871</td>\n",
       "      <td>1.042901</td>\n",
       "      <td>0.274576</td>\n",
       "    </tr>\n",
       "    <tr>\n",
       "      <th>4</th>\n",
       "      <td>-0.422964</td>\n",
       "      <td>-1.712779</td>\n",
       "      <td>1.072751</td>\n",
       "      <td>0.734720</td>\n",
       "      <td>0.183798</td>\n",
       "      <td>-2.188177</td>\n",
       "      <td>-2.736413</td>\n",
       "      <td>1.187361</td>\n",
       "      <td>-0.883437</td>\n",
       "      <td>-1.235241</td>\n",
       "    </tr>\n",
       "    <tr>\n",
       "      <th>5</th>\n",
       "      <td>-1.324325</td>\n",
       "      <td>0.436062</td>\n",
       "      <td>1.025867</td>\n",
       "      <td>0.690907</td>\n",
       "      <td>0.156057</td>\n",
       "      <td>1.219285</td>\n",
       "      <td>-2.746448</td>\n",
       "      <td>1.192089</td>\n",
       "      <td>0.688857</td>\n",
       "      <td>-1.196764</td>\n",
       "    </tr>\n",
       "  </tbody>\n",
       "</table>\n",
       "</div>"
      ],
      "text/plain": [
       "          0         1         2         3         4         5         6  \\\n",
       "0 -0.854683  1.992849 -0.806812 -0.655276  1.130966  0.240112  0.707167   \n",
       "1  0.625038 -1.777802  1.034582  0.265885 -0.061180  0.810721  0.485293   \n",
       "2 -0.648280 -1.085131  0.248281 -0.685442  0.857277 -1.084677  2.040558   \n",
       "3  1.916458  0.759589 -0.125788 -1.356669  1.187348 -0.832513  1.405226   \n",
       "4 -0.422964 -1.712779  1.072751  0.734720  0.183798 -2.188177 -2.736413   \n",
       "5 -1.324325  0.436062  1.025867  0.690907  0.156057  1.219285 -2.746448   \n",
       "\n",
       "          7         8         9  \n",
       "0 -0.302951  0.889006  0.767399  \n",
       "1 -0.219586  1.261792 -0.817489  \n",
       "2 -0.893134 -0.381560  0.034019  \n",
       "3 -0.612871  1.042901  0.274576  \n",
       "4  1.187361 -0.883437 -1.235241  \n",
       "5  1.192089  0.688857 -1.196764  "
      ]
     },
     "execution_count": 4,
     "metadata": {},
     "output_type": "execute_result"
    }
   ],
   "source": [
    "X.head(6)"
   ]
  },
  {
   "cell_type": "code",
   "execution_count": 5,
   "metadata": {},
   "outputs": [
    {
     "name": "stdout",
     "output_type": "stream",
     "text": [
      "0.4360616518856988\n"
     ]
    }
   ],
   "source": [
    "print(X[1][5])"
   ]
  },
  {
   "cell_type": "code",
   "execution_count": null,
   "metadata": {},
   "outputs": [],
   "source": []
  }
 ],
 "metadata": {
  "kernelspec": {
   "display_name": "Python 3",
   "language": "python",
   "name": "python3"
  },
  "language_info": {
   "codemirror_mode": {
    "name": "ipython",
    "version": 3
   },
   "file_extension": ".py",
   "mimetype": "text/x-python",
   "name": "python",
   "nbconvert_exporter": "python",
   "pygments_lexer": "ipython3",
   "version": "3.6.4"
  }
 },
 "nbformat": 4,
 "nbformat_minor": 2
}
